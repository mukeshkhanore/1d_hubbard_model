{
 "cells": [
  {
   "cell_type": "code",
   "execution_count": 1,
   "id": "0183bd44-91da-47bf-b5bb-55f0a3dbb2a2",
   "metadata": {},
   "outputs": [],
   "source": [
    "# setBit() returns an integer with the bit at 'offset' set to 1.\n",
    "def setBit(int_type, offset):\n",
    "    mask = 1 << offset\n",
    "    return(int_type | mask)\n",
    "# clearBit() returns an integer with the bit at 'offset' cleared.\n",
    "def clearBit(int_type, offset):\n",
    "    mask = ~(1 << offset)\n",
    "    return(int_type & mask)\n",
    "#bit count() returns an interger, count of 1 in given \n",
    "def bitCount(int_type):\n",
    "    count = 0\n",
    "    while(int_type):\n",
    "        int_type &= int_type - 1\n",
    "        count += 1\n",
    "    return(count)\n",
    "#testBit() returns an interger, with the value of  bit at 'offset'\n",
    "def testBit(int_type, offset):\n",
    "    binary = bin(int_type)[2:]\n",
    "    if(len(binary)>offset):\n",
    "        for i in (range(len(binary))):            \n",
    "            if(i == offset):\n",
    "                count = int(binary[i])\n",
    "    else:\n",
    "        count = 0\n",
    "    return(count)"
   ]
  },
  {
   "cell_type": "code",
   "execution_count": 2,
   "id": "8c0fb93d-8393-46b6-9f1e-9d6ae0124065",
   "metadata": {},
   "outputs": [
    {
     "name": "stdin",
     "output_type": "stream",
     "text": [
      "Enter a Number: 11\n"
     ]
    },
    {
     "name": "stdout",
     "output_type": "stream",
     "text": [
      "The number of 1 in 11: 3\n"
     ]
    }
   ],
   "source": [
    "num=int(input(\"Enter a Number:\"))\n",
    "print(\"The number of 1 in {}:\".format(num),bitCount(num))"
   ]
  },
  {
   "cell_type": "code",
   "execution_count": 3,
   "id": "e6d497c3-299a-4351-b6a8-a562211d70d5",
   "metadata": {},
   "outputs": [
    {
     "name": "stdin",
     "output_type": "stream",
     "text": [
      "Enter a Number: 11\n",
      "Enter a position of bit: 2\n"
     ]
    },
    {
     "name": "stdout",
     "output_type": "stream",
     "text": [
      "The value after 2 setbit is: 15\n"
     ]
    }
   ],
   "source": [
    "num=int(input(\"Enter a Number:\"))\n",
    "postion =int(input(\"Enter a position of bit:\"))\n",
    "print(\"The value after {} setbit is: {}\".format(postion,setBit(num,postion)));"
   ]
  },
  {
   "cell_type": "code",
   "execution_count": 4,
   "id": "4d215bc3-642d-43c8-b99e-30cf603665c7",
   "metadata": {},
   "outputs": [
    {
     "name": "stdin",
     "output_type": "stream",
     "text": [
      "Enter a Number: 11\n",
      "Enter a position of bit: 3\n"
     ]
    },
    {
     "name": "stdout",
     "output_type": "stream",
     "text": [
      "The value after 3 clearBit is: 3\n"
     ]
    }
   ],
   "source": [
    "num=int(input(\"Enter a Number:\"))\n",
    "postion =int(input(\"Enter a position of bit:\"))\n",
    "print(\"The value after {} clearBit is: {}\".format(postion,clearBit(num,postion)));"
   ]
  },
  {
   "cell_type": "code",
   "execution_count": 5,
   "id": "1f38dff0-1898-428c-bd28-f4831e496ae3",
   "metadata": {},
   "outputs": [
    {
     "name": "stdin",
     "output_type": "stream",
     "text": [
      "Enter a Number: 11\n",
      "Enter a position of bit: 2\n"
     ]
    },
    {
     "name": "stdout",
     "output_type": "stream",
     "text": [
      "The value of  2 testBit is: 1\n"
     ]
    }
   ],
   "source": [
    "num=int(input(\"Enter a Number:\"))\n",
    "postion =int(input(\"Enter a position of bit:\"))\n",
    "print(\"The value of  {} testBit is: {}\".format(postion,testBit(num,postion)));"
   ]
  },
  {
   "cell_type": "code",
   "execution_count": null,
   "id": "71f8efa4-8a18-413f-a591-d709c95f1462",
   "metadata": {},
   "outputs": [],
   "source": []
  }
 ],
 "metadata": {
  "kernelspec": {
   "display_name": "Python 3 (ipykernel)",
   "language": "python",
   "name": "python3"
  },
  "language_info": {
   "codemirror_mode": {
    "name": "ipython",
    "version": 3
   },
   "file_extension": ".py",
   "mimetype": "text/x-python",
   "name": "python",
   "nbconvert_exporter": "python",
   "pygments_lexer": "ipython3",
   "version": "3.10.4"
  }
 },
 "nbformat": 4,
 "nbformat_minor": 5
}
